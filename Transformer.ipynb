{
  "nbformat": 4,
  "nbformat_minor": 0,
  "metadata": {
    "colab": {
      "provenance": []
    },
    "kernelspec": {
      "name": "python3",
      "display_name": "Python 3"
    },
    "language_info": {
      "name": "python"
    }
  },
  "cells": [
    {
      "cell_type": "markdown",
      "source": [
        "# **Transformer Model**"
      ],
      "metadata": {
        "id": "hrsbslzDbBRj"
      }
    },
    {
      "cell_type": "markdown",
      "source": [
        "# Importing Libraries"
      ],
      "metadata": {
        "id": "UkLMaLLwbb4m"
      }
    },
    {
      "cell_type": "code",
      "source": [
        "import tensorflow as tf\n",
        "from tensorflow.keras.layers import Layer, Embedding, Dense, Dropout\n",
        "from tensorflow.keras.models import Model\n",
        "from tensorflow.keras.datasets import imdb\n",
        "from tensorflow.keras import preprocessing\n",
        "import numpy as np"
      ],
      "metadata": {
        "id": "mGPvYc6NbbiI"
      },
      "execution_count": 1,
      "outputs": []
    },
    {
      "cell_type": "markdown",
      "source": [
        "# Data Preparation and Positional Encoding"
      ],
      "metadata": {
        "id": "tIDboU98bQlz"
      }
    },
    {
      "cell_type": "code",
      "execution_count": 2,
      "metadata": {
        "colab": {
          "base_uri": "https://localhost:8080/"
        },
        "id": "Mpcz1H1JawPl",
        "outputId": "e639a4e0-9c35-4ee9-d23d-2c7070a4df21"
      },
      "outputs": [
        {
          "output_type": "stream",
          "name": "stdout",
          "text": [
            "Downloading data from https://storage.googleapis.com/tensorflow/tf-keras-datasets/imdb.npz\n",
            "\u001b[1m17464789/17464789\u001b[0m \u001b[32m━━━━━━━━━━━━━━━━━━━━\u001b[0m\u001b[37m\u001b[0m \u001b[1m0s\u001b[0m 0us/step\n",
            "Shape of training data: (25000, 200)\n",
            "Shape of test data: (25000, 200)\n"
          ]
        }
      ],
      "source": [
        "# Set parameters for the data.\n",
        "max_features = 10000\n",
        "maxlen = 200\n",
        "\n",
        "# Load the IMDB dataset.\n",
        "(x_train, y_train), (x_test, y_test) = imdb.load_data(num_words=max_features)\n",
        "\n",
        "# Preprocess the data to ensure all sequences have the same length.\n",
        "x_train = preprocessing.sequence.pad_sequences(x_train, maxlen=maxlen, padding=\"post\")\n",
        "x_test = preprocessing.sequence.pad_sequences(x_test, maxlen=maxlen, padding=\"post\")\n",
        "\n",
        "print(\"Shape of training data:\", x_train.shape)\n",
        "print(\"Shape of test data:\", x_test.shape)\n",
        "\n",
        "class PositionalEncoding(Layer):\n",
        "    \"\"\"\n",
        "    Adds positional information to the word embeddings.\n",
        "    \"\"\"\n",
        "    def __init__(self, position, d_model, **kwargs):\n",
        "        super().__init__(**kwargs)\n",
        "        self.positional_encoding = self.get_positional_encoding(position, d_model)\n",
        "        self.positional_encoding = tf.cast(self.positional_encoding, dtype=tf.float32)\n",
        "\n",
        "    def get_positional_encoding(self, position, d_model):\n",
        "        angle_rads = np.arange(position)[:, np.newaxis] / np.power(10000, (2 * (np.arange(d_model)[np.newaxis, :] // 2)) / np.float32(d_model))\n",
        "        angle_rads[:, 0::2] = np.sin(angle_rads[:, 0::2])\n",
        "        angle_rads[:, 1::2] = np.cos(angle_rads[:, 1::2])\n",
        "        pos_encoding = angle_rads[np.newaxis, ...]\n",
        "        return tf.cast(pos_encoding, dtype=tf.float32)\n",
        "\n",
        "    def call(self, inputs):\n",
        "        return inputs + self.positional_encoding[:, :tf.shape(inputs)[1], :]\n"
      ]
    },
    {
      "cell_type": "markdown",
      "source": [
        "# Build the Transformer Block"
      ],
      "metadata": {
        "id": "4g_ez39yb5Bn"
      }
    },
    {
      "cell_type": "code",
      "source": [
        "def create_transformer_block(embed_dim, num_heads, ff_dim, rate=0.1):\n",
        "    # The Multi-Head Attention layer is the heart of the Transformer.\n",
        "    # It allows the model to attend to different parts of the input sequence.\n",
        "    attn_layer = tf.keras.layers.MultiHeadAttention(num_heads=num_heads, key_dim=embed_dim)\n",
        "\n",
        "    # A simple feed-forward network to process the attention output.\n",
        "    ff_layer = tf.keras.layers.Dense(ff_dim, activation='relu')\n",
        "\n",
        "    # Layer normalization and dropout are used to stabilize training and prevent overfitting.\n",
        "    layernorm1 = tf.keras.layers.LayerNormalization(epsilon=1e-6)\n",
        "    layernorm2 = tf.keras.layers.LayerNormalization(epsilon=1e-6)\n",
        "    dropout1 = tf.keras.layers.Dropout(rate)\n",
        "    dropout2 = tf.keras.layers.Dropout(rate)\n",
        "\n",
        "    inputs = tf.keras.Input(shape=(maxlen, embed_dim))\n",
        "\n",
        "    # Self-Attention block\n",
        "    attn_output = attn_layer(inputs, inputs)\n",
        "    attn_output = dropout1(attn_output)\n",
        "    norm1_output = layernorm1(inputs + attn_output)\n",
        "\n",
        "    # Feed-forward block\n",
        "    ff_output = ff_layer(norm1_output)\n",
        "    ff_output = dropout2(ff_output)\n",
        "    outputs = layernorm2(norm1_output + ff_output)\n",
        "\n",
        "    return Model(inputs=inputs, outputs=outputs)"
      ],
      "metadata": {
        "id": "bFGdpzFpb3sy"
      },
      "execution_count": 3,
      "outputs": []
    },
    {
      "cell_type": "markdown",
      "source": [
        "# Build the Full Transformer Model"
      ],
      "metadata": {
        "id": "VE-AMWqZcF1x"
      }
    },
    {
      "cell_type": "code",
      "source": [
        "def create_transformer_model():\n",
        "    # Model parameters.\n",
        "    embed_dim = 32  # Dimension of the word embeddings.\n",
        "    num_heads = 2   # Number of attention heads.\n",
        "    ff_dim = 32     # Dimension of the feed-forward layer.\n",
        "\n",
        "    inputs = tf.keras.Input(shape=(maxlen,))\n",
        "\n",
        "    # Input embedding and positional encoding.\n",
        "    embedding_layer = Embedding(max_features, embed_dim)\n",
        "    x = embedding_layer(inputs)\n",
        "    x = PositionalEncoding(maxlen, embed_dim)(x)\n",
        "\n",
        "    # Transformer block. You can stack multiple blocks for a deeper model.\n",
        "    transformer_block = create_transformer_block(embed_dim, num_heads, ff_dim)\n",
        "    x = transformer_block(x)\n",
        "\n",
        "    # Flatten and add the final dense layer for classification.\n",
        "    x = tf.keras.layers.GlobalAveragePooling1D()(x)\n",
        "    x = Dense(20, activation=\"relu\")(x)\n",
        "    outputs = Dense(1, activation=\"sigmoid\")(x)\n",
        "\n",
        "    return Model(inputs=inputs, outputs=outputs)"
      ],
      "metadata": {
        "id": "42rmPD7ncCXj"
      },
      "execution_count": 4,
      "outputs": []
    },
    {
      "cell_type": "markdown",
      "source": [
        "# Compile and Train the Model"
      ],
      "metadata": {
        "id": "lVjfFjyncOVV"
      }
    },
    {
      "cell_type": "code",
      "source": [
        "# Create an instance of the Transformer model.\n",
        "transformer_model = create_transformer_model()\n",
        "\n",
        "# Compile the model with an optimizer, a loss function, and metrics to monitor.\n",
        "transformer_model.compile(optimizer='adam',\n",
        "                          loss='binary_crossentropy',\n",
        "                          metrics=['accuracy'])\n",
        "\n",
        "# Train the model on the training data.\n",
        "history = transformer_model.fit(x_train, y_train, epochs=5, batch_size=64, validation_split=0.2)"
      ],
      "metadata": {
        "colab": {
          "base_uri": "https://localhost:8080/"
        },
        "id": "hwtPwW-ccLJ4",
        "outputId": "bb7ebd31-332f-47e7-a11e-42b0d2947dd1"
      },
      "execution_count": 5,
      "outputs": [
        {
          "output_type": "stream",
          "name": "stdout",
          "text": [
            "Epoch 1/5\n",
            "\u001b[1m313/313\u001b[0m \u001b[32m━━━━━━━━━━━━━━━━━━━━\u001b[0m\u001b[37m\u001b[0m \u001b[1m81s\u001b[0m 239ms/step - accuracy: 0.5976 - loss: 0.6386 - val_accuracy: 0.8596 - val_loss: 0.3260\n",
            "Epoch 2/5\n",
            "\u001b[1m313/313\u001b[0m \u001b[32m━━━━━━━━━━━━━━━━━━━━\u001b[0m\u001b[37m\u001b[0m \u001b[1m69s\u001b[0m 221ms/step - accuracy: 0.8795 - loss: 0.2863 - val_accuracy: 0.8738 - val_loss: 0.2951\n",
            "Epoch 3/5\n",
            "\u001b[1m313/313\u001b[0m \u001b[32m━━━━━━━━━━━━━━━━━━━━\u001b[0m\u001b[37m\u001b[0m \u001b[1m87s\u001b[0m 236ms/step - accuracy: 0.9231 - loss: 0.2007 - val_accuracy: 0.8682 - val_loss: 0.3322\n",
            "Epoch 4/5\n",
            "\u001b[1m313/313\u001b[0m \u001b[32m━━━━━━━━━━━━━━━━━━━━\u001b[0m\u001b[37m\u001b[0m \u001b[1m68s\u001b[0m 217ms/step - accuracy: 0.9526 - loss: 0.1384 - val_accuracy: 0.8674 - val_loss: 0.3611\n",
            "Epoch 5/5\n",
            "\u001b[1m313/313\u001b[0m \u001b[32m━━━━━━━━━━━━━━━━━━━━\u001b[0m\u001b[37m\u001b[0m \u001b[1m68s\u001b[0m 217ms/step - accuracy: 0.9727 - loss: 0.0903 - val_accuracy: 0.8588 - val_loss: 0.4677\n"
          ]
        }
      ]
    },
    {
      "cell_type": "markdown",
      "source": [
        "# Evaluate the Model"
      ],
      "metadata": {
        "id": "ZxwEwYJzcVvF"
      }
    },
    {
      "cell_type": "code",
      "source": [
        "# Evaluate the model on the test dataset to get its final loss and accuracy.\n",
        "loss, accuracy = transformer_model.evaluate(x_test, y_test)\n",
        "\n",
        "print(f\"\\nTest loss: {loss:.4f}\")\n",
        "print(f\"Test accuracy: {accuracy:.4f}\")"
      ],
      "metadata": {
        "colab": {
          "base_uri": "https://localhost:8080/"
        },
        "id": "2tzPwKG5cUwr",
        "outputId": "c2f12271-d870-455c-a96c-67e87f517c8e"
      },
      "execution_count": 6,
      "outputs": [
        {
          "output_type": "stream",
          "name": "stdout",
          "text": [
            "\u001b[1m782/782\u001b[0m \u001b[32m━━━━━━━━━━━━━━━━━━━━\u001b[0m\u001b[37m\u001b[0m \u001b[1m28s\u001b[0m 36ms/step - accuracy: 0.8490 - loss: 0.4831\n",
            "\n",
            "Test loss: 0.4937\n",
            "Test accuracy: 0.8480\n"
          ]
        }
      ]
    },
    {
      "cell_type": "code",
      "source": [],
      "metadata": {
        "id": "yWPRd1F-c_jR"
      },
      "execution_count": null,
      "outputs": []
    }
  ]
}